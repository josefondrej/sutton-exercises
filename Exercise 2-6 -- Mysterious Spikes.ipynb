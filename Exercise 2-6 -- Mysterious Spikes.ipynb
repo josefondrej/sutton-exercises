{
 "cells": [
  {
   "cell_type": "markdown",
   "metadata": {},
   "source": [
    "Consider the case when we have only 2-armed bandit and $q_{*}(a)$ are generated from normal distribution with mean $\\mu = 0$.\n",
    "\n",
    "If we set the initial values $Q_{0}(a) = 5$ for each $a$, then for some time (before the estimated lever values $Q$ adjust close to their expected value -- zero) we keep alternating the levers (with very high probability) in the sense, that in step $2k, 2k+1$ we select each of the two levers once. So if there is relatively high probability, let's say $p_{3}$,  of selecting the correct lever in the 3rd step, in the 4th step this probability is almost exactly $1 - p_{3}$. This, along with the fact, that we select the correct lever at step $2*k+1$ with increasing probability (as we gain more information from the previous trials), can explain the spikes.  "
   ]
  }
 ],
 "metadata": {
  "kernelspec": {
   "display_name": "Python 3",
   "language": "python",
   "name": "python3"
  },
  "language_info": {
   "codemirror_mode": {
    "name": "ipython",
    "version": 3
   },
   "file_extension": ".py",
   "mimetype": "text/x-python",
   "name": "python",
   "nbconvert_exporter": "python",
   "pygments_lexer": "ipython3",
   "version": "3.6.3"
  }
 },
 "nbformat": 4,
 "nbformat_minor": 2
}
