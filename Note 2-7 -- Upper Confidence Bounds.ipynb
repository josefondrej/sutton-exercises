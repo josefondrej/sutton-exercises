{
 "cells": [
  {
   "cell_type": "markdown",
   "metadata": {},
   "source": [
    "According to the Upper-Confidence-Bound action selection we choose the next action as \n",
    "\n",
    "$$ A_{t} = argmax_{a} \\bigg (Q_{t}(a) + c \\sqrt{ \\frac{\\ln{t}}{N_{t}(a)} } \\bigg ). $$\n",
    "\n",
    "\n",
    "It is not very clear where did the second expression on the right side come frome. In fact it comes from Hoeffding's inequality. "
   ]
  },
  {
   "cell_type": "markdown",
   "metadata": {},
   "source": [
    "**Hoefding's inequality:** Given $X_{1}, \\dots, X_{n}$ iid with zero mean which satisfy some additional constraints, we have \n",
    "\n",
    "$$ P(\\bar{X}_{n} > \\varepsilon) < exp(-2n\\varepsilon^{2}) $$"
   ]
  },
  {
   "cell_type": "markdown",
   "metadata": {},
   "source": [
    "In our case $Q_{t}(a)$ is the sample mean of rewards $R_{i}$ for action $a$. So if we fix $\\delta = exp(-2n\\varepsilon^{2})$, we have $$ P \\bigg( q_{*}(a) > Q_{t}(a) + \\sqrt{\\frac{-\\log{\\delta}}{2N_{t}(a)}} \\bigg) < \\delta. $$\n",
    "\n",
    "If we reduce the treshold $\\delta$ with time as for example $\\delta = t^{-2}$, we get exactly the very first equation with $c = 1$.  "
   ]
  },
  {
   "cell_type": "code",
   "execution_count": null,
   "metadata": {},
   "outputs": [],
   "source": []
  }
 ],
 "metadata": {
  "kernelspec": {
   "display_name": "Python 3",
   "language": "python",
   "name": "python3"
  },
  "language_info": {
   "codemirror_mode": {
    "name": "ipython",
    "version": 3
   },
   "file_extension": ".py",
   "mimetype": "text/x-python",
   "name": "python",
   "nbconvert_exporter": "python",
   "pygments_lexer": "ipython3",
   "version": "3.6.3"
  }
 },
 "nbformat": 4,
 "nbformat_minor": 2
}
